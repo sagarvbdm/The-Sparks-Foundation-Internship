{
 "cells": [
  {
   "cell_type": "markdown",
   "metadata": {
    "papermill": {
     "duration": 0.019243,
     "end_time": "2021-06-06T13:14:02.831834",
     "exception": false,
     "start_time": "2021-06-06T13:14:02.812591",
     "status": "completed"
    },
    "tags": []
   },
   "source": [
    "# <span style=\"color:red\">Prediction using Supervised Machine Learning</span>\n",
    "## <span style=\"color:green\">Author : Sagar Badami</span>\n",
    "### Problem Statement: \n",
    "#### * Predict the percentage of a student based on the no. of study hours\n",
    "#### * What will be the predicted score if a student studies for 9.25 hrs/day?"
   ]
  },
  {
   "cell_type": "markdown",
   "metadata": {
    "papermill": {
     "duration": 0.017531,
     "end_time": "2021-06-06T13:14:02.867609",
     "exception": false,
     "start_time": "2021-06-06T13:14:02.850078",
     "status": "completed"
    },
    "tags": []
   },
   "source": [
    "### Importing Libraries"
   ]
  },
  {
   "cell_type": "code",
   "execution_count": 23,
   "metadata": {
    "_cell_guid": "b1076dfc-b9ad-4769-8c92-a6c4dae69d19",
    "_uuid": "8f2839f25d086af736a60e9eeb907d3b93b6e0e5",
    "execution": {
     "iopub.execute_input": "2021-06-06T13:14:02.908562Z",
     "iopub.status.busy": "2021-06-06T13:14:02.907382Z",
     "iopub.status.idle": "2021-06-06T13:14:02.913051Z",
     "shell.execute_reply": "2021-06-06T13:14:02.913607Z",
     "shell.execute_reply.started": "2021-06-06T13:12:52.484141Z"
    },
    "papermill": {
     "duration": 0.027706,
     "end_time": "2021-06-06T13:14:02.913938",
     "exception": false,
     "start_time": "2021-06-06T13:14:02.886232",
     "status": "completed"
    },
    "tags": []
   },
   "outputs": [],
   "source": [
    "import warnings\n",
    "warnings.filterwarnings('ignore')\n",
    "\n",
    "import numpy as np\n",
    "import pandas as pd\n",
    "import matplotlib.pyplot as plt\n",
    "from sklearn.model_selection import train_test_split\n",
    "from sklearn.linear_model import LinearRegression\n",
    "from sklearn import metrics"
   ]
  },
  {
   "cell_type": "markdown",
   "metadata": {
    "papermill": {
     "duration": 0.017646,
     "end_time": "2021-06-06T13:14:02.950157",
     "exception": false,
     "start_time": "2021-06-06T13:14:02.932511",
     "status": "completed"
    },
    "tags": []
   },
   "source": [
    "### Loading Data"
   ]
  },
  {
   "cell_type": "code",
   "execution_count": 24,
   "metadata": {
    "execution": {
     "iopub.execute_input": "2021-06-06T13:14:02.991395Z",
     "iopub.status.busy": "2021-06-06T13:14:02.990721Z",
     "iopub.status.idle": "2021-06-06T13:14:03.037802Z",
     "shell.execute_reply": "2021-06-06T13:14:03.038311Z",
     "shell.execute_reply.started": "2021-06-06T13:12:52.495679Z"
    },
    "papermill": {
     "duration": 0.069691,
     "end_time": "2021-06-06T13:14:03.038527",
     "exception": false,
     "start_time": "2021-06-06T13:14:02.968836",
     "status": "completed"
    },
    "tags": []
   },
   "outputs": [
    {
     "data": {
      "text/html": [
       "<div>\n",
       "<style scoped>\n",
       "    .dataframe tbody tr th:only-of-type {\n",
       "        vertical-align: middle;\n",
       "    }\n",
       "\n",
       "    .dataframe tbody tr th {\n",
       "        vertical-align: top;\n",
       "    }\n",
       "\n",
       "    .dataframe thead th {\n",
       "        text-align: right;\n",
       "    }\n",
       "</style>\n",
       "<table border=\"1\" class=\"dataframe\">\n",
       "  <thead>\n",
       "    <tr style=\"text-align: right;\">\n",
       "      <th></th>\n",
       "      <th>Hours</th>\n",
       "      <th>Scores</th>\n",
       "    </tr>\n",
       "  </thead>\n",
       "  <tbody>\n",
       "    <tr>\n",
       "      <th>0</th>\n",
       "      <td>2.5</td>\n",
       "      <td>21</td>\n",
       "    </tr>\n",
       "    <tr>\n",
       "      <th>1</th>\n",
       "      <td>5.1</td>\n",
       "      <td>47</td>\n",
       "    </tr>\n",
       "    <tr>\n",
       "      <th>2</th>\n",
       "      <td>3.2</td>\n",
       "      <td>27</td>\n",
       "    </tr>\n",
       "    <tr>\n",
       "      <th>3</th>\n",
       "      <td>8.5</td>\n",
       "      <td>75</td>\n",
       "    </tr>\n",
       "    <tr>\n",
       "      <th>4</th>\n",
       "      <td>3.5</td>\n",
       "      <td>30</td>\n",
       "    </tr>\n",
       "  </tbody>\n",
       "</table>\n",
       "</div>"
      ],
      "text/plain": [
       "   Hours  Scores\n",
       "0    2.5      21\n",
       "1    5.1      47\n",
       "2    3.2      27\n",
       "3    8.5      75\n",
       "4    3.5      30"
      ]
     },
     "execution_count": 24,
     "metadata": {},
     "output_type": "execute_result"
    }
   ],
   "source": [
    "df = pd.read_csv('student_scores.csv')\n",
    "df.head()"
   ]
  },
  {
   "cell_type": "markdown",
   "metadata": {},
   "source": [
    "### Data Exploration"
   ]
  },
  {
   "cell_type": "code",
   "execution_count": 25,
   "metadata": {},
   "outputs": [
    {
     "data": {
      "text/plain": [
       "(25, 2)"
      ]
     },
     "execution_count": 25,
     "metadata": {},
     "output_type": "execute_result"
    }
   ],
   "source": [
    "# Structure of Data\n",
    "df.shape"
   ]
  },
  {
   "cell_type": "code",
   "execution_count": 26,
   "metadata": {},
   "outputs": [
    {
     "data": {
      "text/plain": [
       "Hours     0\n",
       "Scores    0\n",
       "dtype: int64"
      ]
     },
     "execution_count": 26,
     "metadata": {},
     "output_type": "execute_result"
    }
   ],
   "source": [
    "# detect missing values\n",
    "df.isnull().sum()"
   ]
  },
  {
   "cell_type": "code",
   "execution_count": 27,
   "metadata": {
    "execution": {
     "iopub.execute_input": "2021-06-06T13:14:03.081980Z",
     "iopub.status.busy": "2021-06-06T13:14:03.081225Z",
     "iopub.status.idle": "2021-06-06T13:14:03.103367Z",
     "shell.execute_reply": "2021-06-06T13:14:03.103948Z",
     "shell.execute_reply.started": "2021-06-06T13:12:52.549722Z"
    },
    "papermill": {
     "duration": 0.044714,
     "end_time": "2021-06-06T13:14:03.104172",
     "exception": false,
     "start_time": "2021-06-06T13:14:03.059458",
     "status": "completed"
    },
    "tags": []
   },
   "outputs": [
    {
     "data": {
      "text/html": [
       "<div>\n",
       "<style scoped>\n",
       "    .dataframe tbody tr th:only-of-type {\n",
       "        vertical-align: middle;\n",
       "    }\n",
       "\n",
       "    .dataframe tbody tr th {\n",
       "        vertical-align: top;\n",
       "    }\n",
       "\n",
       "    .dataframe thead th {\n",
       "        text-align: right;\n",
       "    }\n",
       "</style>\n",
       "<table border=\"1\" class=\"dataframe\">\n",
       "  <thead>\n",
       "    <tr style=\"text-align: right;\">\n",
       "      <th></th>\n",
       "      <th>Hours</th>\n",
       "      <th>Scores</th>\n",
       "    </tr>\n",
       "  </thead>\n",
       "  <tbody>\n",
       "    <tr>\n",
       "      <th>count</th>\n",
       "      <td>25.000000</td>\n",
       "      <td>25.000000</td>\n",
       "    </tr>\n",
       "    <tr>\n",
       "      <th>mean</th>\n",
       "      <td>5.012000</td>\n",
       "      <td>51.480000</td>\n",
       "    </tr>\n",
       "    <tr>\n",
       "      <th>std</th>\n",
       "      <td>2.525094</td>\n",
       "      <td>25.286887</td>\n",
       "    </tr>\n",
       "    <tr>\n",
       "      <th>min</th>\n",
       "      <td>1.100000</td>\n",
       "      <td>17.000000</td>\n",
       "    </tr>\n",
       "    <tr>\n",
       "      <th>25%</th>\n",
       "      <td>2.700000</td>\n",
       "      <td>30.000000</td>\n",
       "    </tr>\n",
       "    <tr>\n",
       "      <th>50%</th>\n",
       "      <td>4.800000</td>\n",
       "      <td>47.000000</td>\n",
       "    </tr>\n",
       "    <tr>\n",
       "      <th>75%</th>\n",
       "      <td>7.400000</td>\n",
       "      <td>75.000000</td>\n",
       "    </tr>\n",
       "    <tr>\n",
       "      <th>max</th>\n",
       "      <td>9.200000</td>\n",
       "      <td>95.000000</td>\n",
       "    </tr>\n",
       "  </tbody>\n",
       "</table>\n",
       "</div>"
      ],
      "text/plain": [
       "           Hours     Scores\n",
       "count  25.000000  25.000000\n",
       "mean    5.012000  51.480000\n",
       "std     2.525094  25.286887\n",
       "min     1.100000  17.000000\n",
       "25%     2.700000  30.000000\n",
       "50%     4.800000  47.000000\n",
       "75%     7.400000  75.000000\n",
       "max     9.200000  95.000000"
      ]
     },
     "execution_count": 27,
     "metadata": {},
     "output_type": "execute_result"
    }
   ],
   "source": [
    "# Detailed View of Data\n",
    "df.describe()"
   ]
  },
  {
   "cell_type": "code",
   "execution_count": 28,
   "metadata": {
    "execution": {
     "iopub.execute_input": "2021-06-06T13:14:03.147199Z",
     "iopub.status.busy": "2021-06-06T13:14:03.146450Z",
     "iopub.status.idle": "2021-06-06T13:14:03.158550Z",
     "shell.execute_reply": "2021-06-06T13:14:03.157930Z",
     "shell.execute_reply.started": "2021-06-06T13:12:52.573721Z"
    },
    "papermill": {
     "duration": 0.034569,
     "end_time": "2021-06-06T13:14:03.158711",
     "exception": false,
     "start_time": "2021-06-06T13:14:03.124142",
     "status": "completed"
    },
    "tags": []
   },
   "outputs": [
    {
     "data": {
      "text/html": [
       "<div>\n",
       "<style scoped>\n",
       "    .dataframe tbody tr th:only-of-type {\n",
       "        vertical-align: middle;\n",
       "    }\n",
       "\n",
       "    .dataframe tbody tr th {\n",
       "        vertical-align: top;\n",
       "    }\n",
       "\n",
       "    .dataframe thead th {\n",
       "        text-align: right;\n",
       "    }\n",
       "</style>\n",
       "<table border=\"1\" class=\"dataframe\">\n",
       "  <thead>\n",
       "    <tr style=\"text-align: right;\">\n",
       "      <th></th>\n",
       "      <th>Hours</th>\n",
       "      <th>Scores</th>\n",
       "    </tr>\n",
       "  </thead>\n",
       "  <tbody>\n",
       "    <tr>\n",
       "      <th>Hours</th>\n",
       "      <td>1.000000</td>\n",
       "      <td>0.976191</td>\n",
       "    </tr>\n",
       "    <tr>\n",
       "      <th>Scores</th>\n",
       "      <td>0.976191</td>\n",
       "      <td>1.000000</td>\n",
       "    </tr>\n",
       "  </tbody>\n",
       "</table>\n",
       "</div>"
      ],
      "text/plain": [
       "           Hours    Scores\n",
       "Hours   1.000000  0.976191\n",
       "Scores  0.976191  1.000000"
      ]
     },
     "execution_count": 28,
     "metadata": {},
     "output_type": "execute_result"
    }
   ],
   "source": [
    "# Correlation between Variables\n",
    "df.corr()"
   ]
  },
  {
   "cell_type": "markdown",
   "metadata": {
    "papermill": {
     "duration": 0.01942,
     "end_time": "2021-06-06T13:14:03.198032",
     "exception": false,
     "start_time": "2021-06-06T13:14:03.178612",
     "status": "completed"
    },
    "tags": []
   },
   "source": [
    "### Plotting Distribution of Data"
   ]
  },
  {
   "cell_type": "code",
   "execution_count": 29,
   "metadata": {
    "execution": {
     "iopub.execute_input": "2021-06-06T13:14:03.628211Z",
     "iopub.status.busy": "2021-06-06T13:14:03.627571Z",
     "iopub.status.idle": "2021-06-06T13:14:03.798904Z",
     "shell.execute_reply": "2021-06-06T13:14:03.799501Z",
     "shell.execute_reply.started": "2021-06-06T13:12:52.913467Z"
    },
    "papermill": {
     "duration": 0.196113,
     "end_time": "2021-06-06T13:14:03.799716",
     "exception": false,
     "start_time": "2021-06-06T13:14:03.603603",
     "status": "completed"
    },
    "tags": []
   },
   "outputs": [
    {
     "data": {
      "image/png": "[encoded data removed]",
      "text/plain": [
       "<Figure size 648x360 with 1 Axes>"
      ]
     },
     "metadata": {
      "needs_background": "light"
     },
     "output_type": "display_data"
    }
   ],
   "source": [
    "plt.figure(figsize=(9,5))\n",
    "plt.title('Hours Studied vs Score Secured')\n",
    "plt.xlabel('Hours')\n",
    "plt.ylabel('Score')\n",
    "plt.scatter(df.Hours, df.Scores,color='red')\n",
    "plt.show()"
   ]
  },
  {
   "cell_type": "markdown",
   "metadata": {
    "papermill": {
     "duration": 0.021555,
     "end_time": "2021-06-06T13:14:03.844033",
     "exception": false,
     "start_time": "2021-06-06T13:14:03.822478",
     "status": "completed"
    },
    "tags": []
   },
   "source": [
    "## Simple Linear Regression"
   ]
  },
  {
   "cell_type": "markdown",
   "metadata": {
    "papermill": {
     "duration": 0.021108,
     "end_time": "2021-06-06T13:14:05.211582",
     "exception": false,
     "start_time": "2021-06-06T13:14:05.190474",
     "status": "completed"
    },
    "tags": []
   },
   "source": [
    "### Creating Training & Testing Set"
   ]
  },
  {
   "cell_type": "code",
   "execution_count": 30,
   "metadata": {
    "execution": {
     "iopub.execute_input": "2021-06-06T13:14:05.262087Z",
     "iopub.status.busy": "2021-06-06T13:14:05.260956Z",
     "iopub.status.idle": "2021-06-06T13:14:05.270704Z",
     "shell.execute_reply": "2021-06-06T13:14:05.271189Z",
     "shell.execute_reply.started": "2021-06-06T13:12:54.085813Z"
    },
    "papermill": {
     "duration": 0.038481,
     "end_time": "2021-06-06T13:14:05.271426",
     "exception": false,
     "start_time": "2021-06-06T13:14:05.232945",
     "status": "completed"
    },
    "tags": []
   },
   "outputs": [
    {
     "name": "stdout",
     "output_type": "stream",
     "text": [
      "X: (25, 1)\n",
      "y: (25,)\n"
     ]
    }
   ],
   "source": [
    "X = df.iloc[:,:-1].values\n",
    "y = df.iloc[:,-1].values\n",
    "print(f'X: {X.shape}')\n",
    "print(f'y: {y.shape}')"
   ]
  },
  {
   "cell_type": "code",
   "execution_count": 31,
   "metadata": {},
   "outputs": [],
   "source": [
    "# Spliting dataset into training set and testing set\n",
    "X_train, X_test, y_train, y_test = train_test_split(X, y, test_size=0.2, random_state=1)"
   ]
  },
  {
   "cell_type": "code",
   "execution_count": 32,
   "metadata": {
    "execution": {
     "iopub.execute_input": "2021-06-06T13:14:05.335859Z",
     "iopub.status.busy": "2021-06-06T13:14:05.335006Z",
     "iopub.status.idle": "2021-06-06T13:14:05.344187Z",
     "shell.execute_reply": "2021-06-06T13:14:05.343208Z",
     "shell.execute_reply.started": "2021-06-06T13:12:54.093974Z"
    },
    "papermill": {
     "duration": 0.045451,
     "end_time": "2021-06-06T13:14:05.344386",
     "exception": false,
     "start_time": "2021-06-06T13:14:05.298935",
     "status": "completed"
    },
    "tags": []
   },
   "outputs": [
    {
     "name": "stdout",
     "output_type": "stream",
     "text": [
      "X_train: (20, 1)\n",
      "X_test: (5, 1)\n",
      "y_train: (20,)\n",
      "y_test: (5,)\n"
     ]
    }
   ],
   "source": [
    "# Structure of each set in Train & Test data\n",
    "col = ['X_train', 'X_test', 'y_train', 'y_test']\n",
    "tset = [X_train, X_test, y_train, y_test]\n",
    "for i in range(len(col)):\n",
    "    print(f'{col[i]}: {tset[i].shape}')"
   ]
  },
  {
   "cell_type": "markdown",
   "metadata": {},
   "source": [
    "### Plotting Distribution of Training & Testing Dataset"
   ]
  },
  {
   "cell_type": "code",
   "execution_count": 36,
   "metadata": {
    "execution": {
     "iopub.execute_input": "2021-06-06T13:14:05.441542Z",
     "iopub.status.busy": "2021-06-06T13:14:05.440828Z",
     "iopub.status.idle": "2021-06-06T13:14:05.713280Z",
     "shell.execute_reply": "2021-06-06T13:14:05.713818Z",
     "shell.execute_reply.started": "2021-06-06T13:12:54.104823Z"
    },
    "papermill": {
     "duration": 0.298119,
     "end_time": "2021-06-06T13:14:05.714023",
     "exception": false,
     "start_time": "2021-06-06T13:14:05.415904",
     "status": "completed"
    },
    "tags": []
   },
   "outputs": [
    {
     "data": {
      "image/png": "[encoded data removed]",
      "text/plain": [
       "<Figure size 1080x360 with 2 Axes>"
      ]
     },
     "metadata": {
      "needs_background": "light"
     },
     "output_type": "display_data"
    }
   ],
   "source": [
    "fig, ax = plt.subplots(1, 2, figsize=(15,5))\n",
    "ax[0].set_title('Training Set', fontsize=15)\n",
    "ax[0].scatter(X_train, y_train, s=75, color='red')\n",
    "ax[0].set_xlabel('Hours')\n",
    "ax[0].set_ylabel('Score')\n",
    "ax[1].set_title('Testing Set', fontsize=15)\n",
    "ax[1].scatter(X_test, y_test, s=75, color='red')\n",
    "ax[1].set_xlabel('Hours')\n",
    "ax[1].set_ylabel('score')\n",
    "plt.show()"
   ]
  },
  {
   "cell_type": "markdown",
   "metadata": {
    "papermill": {
     "duration": 0.022635,
     "end_time": "2021-06-06T13:14:05.759693",
     "exception": false,
     "start_time": "2021-06-06T13:14:05.737058",
     "status": "completed"
    },
    "tags": []
   },
   "source": [
    "### Modeling & Fitting"
   ]
  },
  {
   "cell_type": "code",
   "execution_count": 12,
   "metadata": {
    "execution": {
     "iopub.execute_input": "2021-06-06T13:14:05.809575Z",
     "iopub.status.busy": "2021-06-06T13:14:05.808888Z",
     "iopub.status.idle": "2021-06-06T13:14:05.829019Z",
     "shell.execute_reply": "2021-06-06T13:14:05.828253Z",
     "shell.execute_reply.started": "2021-06-06T13:12:54.382382Z"
    },
    "papermill": {
     "duration": 0.046739,
     "end_time": "2021-06-06T13:14:05.829199",
     "exception": false,
     "start_time": "2021-06-06T13:14:05.782460",
     "status": "completed"
    },
    "tags": []
   },
   "outputs": [
    {
     "name": "stdout",
     "output_type": "stream",
     "text": [
      "Coefficient: [10.46110829]\n",
      "Intercept: -1.5369573315500702\n"
     ]
    }
   ],
   "source": [
    "Lin_regr = LinearRegression()\n",
    "Lin_regr.fit(X_train, y_train)\n",
    "print(f'Coefficient: {Lin_regr.coef_}')\n",
    "print(f'Intercept: {Lin_regr.intercept_}')"
   ]
  },
  {
   "cell_type": "markdown",
   "metadata": {
    "papermill": {
     "duration": 0.022602,
     "end_time": "2021-06-06T13:14:05.875103",
     "exception": false,
     "start_time": "2021-06-06T13:14:05.852501",
     "status": "completed"
    },
    "tags": []
   },
   "source": [
    "### Plotting Regression Line"
   ]
  },
  {
   "cell_type": "code",
   "execution_count": 37,
   "metadata": {
    "execution": {
     "iopub.execute_input": "2021-06-06T13:14:05.954276Z",
     "iopub.status.busy": "2021-06-06T13:14:05.950798Z",
     "iopub.status.idle": "2021-06-06T13:14:06.213378Z",
     "shell.execute_reply": "2021-06-06T13:14:06.212718Z",
     "shell.execute_reply.started": "2021-06-06T13:12:54.401335Z"
    },
    "papermill": {
     "duration": 0.31536,
     "end_time": "2021-06-06T13:14:06.213529",
     "exception": false,
     "start_time": "2021-06-06T13:14:05.898169",
     "status": "completed"
    },
    "tags": []
   },
   "outputs": [
    {
     "data": {
      "image/png": "[encoded data removed]",
      "text/plain": [
       "<Figure size 1080x360 with 2 Axes>"
      ]
     },
     "metadata": {
      "needs_background": "light"
     },
     "output_type": "display_data"
    }
   ],
   "source": [
    "fig, ax = plt.subplots(1, 2, figsize=(15,5))\n",
    "ax[0].set_title('Training Set', fontsize=15)\n",
    "ax[0].scatter(X_train, y_train, s=75, color='red')\n",
    "ax[0].plot(X_train, Lin_regr.coef_*X_train + Lin_regr.intercept_, '-b')\n",
    "ax[0].set_xlabel('Hours')\n",
    "ax[0].set_ylabel('Score')\n",
    "ax[1].set_title('Testing Set', fontsize=15)\n",
    "ax[1].scatter(X_test, y_test, s=75, color='red')\n",
    "ax[1].plot(X_test, Lin_regr.coef_*X_test + Lin_regr.intercept_, '-b')\n",
    "ax[1].set_xlabel('Hours')\n",
    "ax[1].set_ylabel('Score')\n",
    "plt.show()"
   ]
  },
  {
   "cell_type": "markdown",
   "metadata": {
    "papermill": {
     "duration": 0.024178,
     "end_time": "2021-06-06T13:14:06.262256",
     "exception": false,
     "start_time": "2021-06-06T13:14:06.238078",
     "status": "completed"
    },
    "tags": []
   },
   "source": [
    "### Making Predictions"
   ]
  },
  {
   "cell_type": "code",
   "execution_count": 38,
   "metadata": {
    "execution": {
     "iopub.execute_input": "2021-06-06T13:14:06.326598Z",
     "iopub.status.busy": "2021-06-06T13:14:06.325816Z",
     "iopub.status.idle": "2021-06-06T13:14:06.330822Z",
     "shell.execute_reply": "2021-06-06T13:14:06.330218Z",
     "shell.execute_reply.started": "2021-06-06T13:12:54.673426Z"
    },
    "papermill": {
     "duration": 0.043955,
     "end_time": "2021-06-06T13:14:06.330981",
     "exception": false,
     "start_time": "2021-06-06T13:14:06.287026",
     "status": "completed"
    },
    "tags": []
   },
   "outputs": [
    {
     "data": {
      "text/html": [
       "<div>\n",
       "<style scoped>\n",
       "    .dataframe tbody tr th:only-of-type {\n",
       "        vertical-align: middle;\n",
       "    }\n",
       "\n",
       "    .dataframe tbody tr th {\n",
       "        vertical-align: top;\n",
       "    }\n",
       "\n",
       "    .dataframe thead th {\n",
       "        text-align: right;\n",
       "    }\n",
       "</style>\n",
       "<table border=\"1\" class=\"dataframe\">\n",
       "  <thead>\n",
       "    <tr style=\"text-align: right;\">\n",
       "      <th></th>\n",
       "      <th>Hours</th>\n",
       "      <th>Actual Score</th>\n",
       "      <th>Predicted Score</th>\n",
       "    </tr>\n",
       "  </thead>\n",
       "  <tbody>\n",
       "    <tr>\n",
       "      <th>0</th>\n",
       "      <td>1.1</td>\n",
       "      <td>17</td>\n",
       "      <td>9</td>\n",
       "    </tr>\n",
       "    <tr>\n",
       "      <th>1</th>\n",
       "      <td>3.3</td>\n",
       "      <td>42</td>\n",
       "      <td>32</td>\n",
       "    </tr>\n",
       "    <tr>\n",
       "      <th>2</th>\n",
       "      <td>1.9</td>\n",
       "      <td>24</td>\n",
       "      <td>18</td>\n",
       "    </tr>\n",
       "    <tr>\n",
       "      <th>3</th>\n",
       "      <td>8.5</td>\n",
       "      <td>75</td>\n",
       "      <td>87</td>\n",
       "    </tr>\n",
       "    <tr>\n",
       "      <th>4</th>\n",
       "      <td>4.8</td>\n",
       "      <td>54</td>\n",
       "      <td>48</td>\n",
       "    </tr>\n",
       "  </tbody>\n",
       "</table>\n",
       "</div>"
      ],
      "text/plain": [
       "   Hours  Actual Score  Predicted Score\n",
       "0    1.1            17                9\n",
       "1    3.3            42               32\n",
       "2    1.9            24               18\n",
       "3    8.5            75               87\n",
       "4    4.8            54               48"
      ]
     },
     "execution_count": 38,
     "metadata": {},
     "output_type": "execute_result"
    }
   ],
   "source": [
    "y_pred = Lin_regr.predict(X_test).astype(int)\n",
    "pd.DataFrame({'Hours': X_test[:,0], 'Actual Score': y_test, 'Predicted Score': y_pred})"
   ]
  },
  {
   "cell_type": "markdown",
   "metadata": {
    "papermill": {
     "duration": 0.024362,
     "end_time": "2021-06-06T13:14:06.380426",
     "exception": false,
     "start_time": "2021-06-06T13:14:06.356064",
     "status": "completed"
    },
    "tags": []
   },
   "source": [
    "### Evaluation"
   ]
  },
  {
   "cell_type": "code",
   "execution_count": 39,
   "metadata": {
    "execution": {
     "iopub.execute_input": "2021-06-06T13:14:06.436817Z",
     "iopub.status.busy": "2021-06-06T13:14:06.436112Z",
     "iopub.status.idle": "2021-06-06T13:14:06.439884Z",
     "shell.execute_reply": "2021-06-06T13:14:06.440391Z",
     "shell.execute_reply.started": "2021-06-06T13:12:54.687547Z"
    },
    "papermill": {
     "duration": 0.035477,
     "end_time": "2021-06-06T13:14:06.440582",
     "exception": false,
     "start_time": "2021-06-06T13:14:06.405105",
     "status": "completed"
    },
    "tags": []
   },
   "outputs": [
    {
     "name": "stdout",
     "output_type": "stream",
     "text": [
      "Mean Absolute Error(MAE): 8.4\n",
      "Residual Sum of Squares(MSE): 76.0\n",
      "R2-Score: 0.8257839721254355\n"
     ]
    }
   ],
   "source": [
    "print(f'Mean Absolute Error(MAE): {metrics.mean_absolute_error(y_test, y_pred)}')\n",
    "print(f'Residual Sum of Squares(MSE): {metrics.mean_squared_error(y_test, y_pred)}')\n",
    "print(f'R2-Score: {metrics.r2_score(y_test, y_pred)}')"
   ]
  },
  {
   "cell_type": "markdown",
   "metadata": {},
   "source": [
    "### What will be predicted score if a student studies for 9.25 hrs/ day? "
   ]
  },
  {
   "cell_type": "code",
   "execution_count": 40,
   "metadata": {},
   "outputs": [
    {
     "data": {
      "text/html": [
       "<div>\n",
       "<style scoped>\n",
       "    .dataframe tbody tr th:only-of-type {\n",
       "        vertical-align: middle;\n",
       "    }\n",
       "\n",
       "    .dataframe tbody tr th {\n",
       "        vertical-align: top;\n",
       "    }\n",
       "\n",
       "    .dataframe thead th {\n",
       "        text-align: right;\n",
       "    }\n",
       "</style>\n",
       "<table border=\"1\" class=\"dataframe\">\n",
       "  <thead>\n",
       "    <tr style=\"text-align: right;\">\n",
       "      <th></th>\n",
       "      <th>Hours</th>\n",
       "      <th>Predicted Score</th>\n",
       "    </tr>\n",
       "  </thead>\n",
       "  <tbody>\n",
       "    <tr>\n",
       "      <th>0</th>\n",
       "      <td>9.25</td>\n",
       "      <td>95</td>\n",
       "    </tr>\n",
       "  </tbody>\n",
       "</table>\n",
       "</div>"
      ],
      "text/plain": [
       "   Hours  Predicted Score\n",
       "0   9.25               95"
      ]
     },
     "execution_count": 40,
     "metadata": {},
     "output_type": "execute_result"
    }
   ],
   "source": [
    "hours = 9.25\n",
    "score = Lin_regr.predict([[hours]]).astype(int)\n",
    "pd.DataFrame({'Hours': hours, 'Predicted Score': score})"
   ]
  },
  {
   "cell_type": "markdown",
   "metadata": {},
   "source": [
    "#### If a student studies for 9.25 hrs/day, the Score will be *95*  as per this model."
   ]
  },
  {
   "cell_type": "markdown",
   "metadata": {
    "papermill": {
     "duration": 0.024376,
     "end_time": "2021-06-06T13:14:06.489938",
     "exception": false,
     "start_time": "2021-06-06T13:14:06.465562",
     "status": "completed"
    },
    "tags": []
   },
   "source": [
    "# <span style=\"color:green\">Thank You!</span>"
   ]
  }
 ],
 "metadata": {
  "kernelspec": {
   "display_name": "Python 3",
   "language": "python",
   "name": "python3"
  },
  "language_info": {
   "codemirror_mode": {
    "name": "ipython",
    "version": 3
   },
   "file_extension": ".py",
   "mimetype": "text/x-python",
   "name": "python",
   "nbconvert_exporter": "python",
   "pygments_lexer": "ipython3",
   "version": "3.7.3"
  },
  "papermill": {
   "default_parameters": {},
   "duration": 11.049457,
   "end_time": "2021-06-06T13:14:07.426911",
   "environment_variables": {},
   "exception": null,
   "input_path": "__notebook__.ipynb",
   "output_path": "__notebook__.ipynb",
   "parameters": {},
   "start_time": "2021-06-06T13:13:56.377454",
   "version": "2.3.2"
  }
 },
 "nbformat": 4,
 "nbformat_minor": 5
}
